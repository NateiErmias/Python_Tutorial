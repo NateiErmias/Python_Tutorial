{
 "cells": [
  {
   "cell_type": "markdown",
   "metadata": {},
   "source": [
    "# Python Statement, Indentation and Comments\n",
    "\n",
    "In this class, you will learn about Python statements, why indentation is important and use of comments in programming."
   ]
  },
  {
   "cell_type": "markdown",
   "metadata": {},
   "source": [
    "## 1. Python Statement\n",
    "\n",
    "* Instructions that a Python interpreter can execute are called statements. \n",
    "* Statements can be simple, like assigning a value to a variable, or more complex, like control flow statements (if, for, while).\n",
    "For example, **`a = 1`** is an assignment statement. **`if`** statement, **`for`** statement, **`while`** statement, etc. are other kinds of statements which will be discussed later."
   ]
  },
  {
   "cell_type": "markdown",
   "metadata": {},
   "source": [
    "### Multi-line statement\n",
    "\n",
    "In Python, the end of a statement is marked by a newline character. But we can make a statement extend over multiple lines with the line continuation character **`\\`**.\n",
    "\n",
    "* Statements finish at the end of the line:\n",
    "  * Except when there is an open bracket or paranthesis:\n",
    "  \n",
    "```python\n",
    ">>> 1+2\n",
    ">>> +3  #illegal continuation of the sum\n",
    "```\n",
    "  * A single backslash at the end of the line can also be used to indicate that a statement is still incomplete  \n",
    "  \n",
    "```python\n",
    ">>> 1 + \\\n",
    ">>>    2 + 3 # this is also okay\n",
    "```\n",
    "\n",
    "For example:"
   ]
  },
  {
   "cell_type": "code",
   "execution_count": 1,
   "metadata": {
    "ExecuteTime": {
     "end_time": "2021-10-02T06:13:39.565686Z",
     "start_time": "2021-10-02T06:13:39.533459Z"
    }
   },
   "outputs": [
    {
     "data": {
      "text/plain": [
       "3"
      ]
     },
     "execution_count": 1,
     "metadata": {},
     "output_type": "execute_result"
    }
   ],
   "source": [
    "1+2    # assignment line 1\n",
    "+3     # assignment line 2\n",
    "\n",
    "# Python is only calculating assignment line 1"
   ]
  },
  {
   "cell_type": "markdown",
   "metadata": {},
   "source": [
    "```python\n",
    "1+2 \\       # '\\' means assignment line is continue to next line\n",
    "+3\n",
    "```\n",
    "\n",
    ">**Note:** This would result in error because there should be no comment **`#`** or space after **`\\`**."
   ]
  },
  {
   "cell_type": "code",
   "execution_count": 1,
   "metadata": {
    "ExecuteTime": {
     "end_time": "2021-10-02T06:13:39.671639Z",
     "start_time": "2021-10-02T06:13:39.567639Z"
    }
   },
   "outputs": [
    {
     "data": {
      "text/plain": [
       "6"
      ]
     },
     "execution_count": 1,
     "metadata": {},
     "output_type": "execute_result"
    }
   ],
   "source": [
    "# Method 1:\n",
    "\n",
    "1+2 \\\n",
    "+3"
   ]
  },
  {
   "cell_type": "code",
   "execution_count": 3,
   "metadata": {
    "ExecuteTime": {
     "end_time": "2021-10-02T06:13:39.777600Z",
     "start_time": "2021-10-02T06:13:39.676525Z"
    }
   },
   "outputs": [
    {
     "data": {
      "text/plain": [
       "45"
      ]
     },
     "execution_count": 3,
     "metadata": {},
     "output_type": "execute_result"
    }
   ],
   "source": [
    "1 + 2 + 3 + \\\n",
    "4 + 5 + 6 + \\\n",
    "7 + 8 + 9"
   ]
  },
  {
   "cell_type": "markdown",
   "metadata": {},
   "source": [
    "This is an explicit line continuation. In Python, line continuation is implied inside:\n",
    "1. parentheses **`( )`**, \n",
    "    For Example:\n",
    "    ```python\n",
    "(1+2\n",
    "             + 3) # perfectly OK even with spaces\n",
    "```\n",
    "2. brackets **`[ ]`**, and \n",
    "3. braces **`{ }`**. \n",
    "For instance, we can implement the above multi-line statement as:"
   ]
  },
  {
   "cell_type": "code",
   "execution_count": 4,
   "metadata": {
    "ExecuteTime": {
     "end_time": "2021-10-02T06:13:39.929944Z",
     "start_time": "2021-10-02T06:13:39.781506Z"
    }
   },
   "outputs": [
    {
     "data": {
      "text/plain": [
       "6"
      ]
     },
     "execution_count": 4,
     "metadata": {},
     "output_type": "execute_result"
    }
   ],
   "source": [
    "# Method 2:\n",
    "\n",
    "(1+2\n",
    "+3)"
   ]
  },
  {
   "cell_type": "code",
   "execution_count": 5,
   "metadata": {
    "ExecuteTime": {
     "end_time": "2021-10-02T06:13:40.041275Z",
     "start_time": "2021-10-02T06:13:39.933850Z"
    }
   },
   "outputs": [
    {
     "data": {
      "text/plain": [
       "45"
      ]
     },
     "execution_count": 5,
     "metadata": {},
     "output_type": "execute_result"
    }
   ],
   "source": [
    "(1 + 2 + 3 +\n",
    "4 + 5 + 6 +\n",
    "7 + 8 + 9)"
   ]
  },
  {
   "cell_type": "markdown",
   "metadata": {},
   "source": [
    "Here, the surrounding parentheses **`( )`** do the line continuation implicitly. Same is the case with **`[ ]`** and **`{ }`**. For example:"
   ]
  },
  {
   "cell_type": "code",
   "execution_count": 2,
   "metadata": {
    "ExecuteTime": {
     "end_time": "2021-10-02T06:13:40.160414Z",
     "start_time": "2021-10-02T06:13:40.047132Z"
    }
   },
   "outputs": [
    {
     "data": {
      "text/plain": [
       "['red', 'blue', 'green', '99']"
      ]
     },
     "execution_count": 2,
     "metadata": {},
     "output_type": "execute_result"
    }
   ],
   "source": [
    "['red',\n",
    "'blue',\n",
    "    'green', '99']"
   ]
  },
  {
   "cell_type": "code",
   "execution_count": 4,
   "metadata": {
    "ExecuteTime": {
     "end_time": "2021-10-02T06:13:40.160414Z",
     "start_time": "2021-10-02T06:13:40.047132Z"
    }
   },
   "outputs": [
    {
     "data": {
      "text/plain": [
       "{'99', 'blue', 'green', 'red'}"
      ]
     },
     "execution_count": 4,
     "metadata": {},
     "output_type": "execute_result"
    }
   ],
   "source": [
    "{'red',\n",
    "'blue',\n",
    "    'green', '99'}"
   ]
  },
  {
   "cell_type": "markdown",
   "metadata": {},
   "source": [
    "## 2. Python Indentation\n",
    "\n",
    "* Python uses indentation (whitespace) to define code blocks, unlike many other programming languages that use curly braces or keywords.\n",
    "* Proper indentation is crucial in Python because it determines the structure and execution of your code.\n",
    "* The standard indentation in Python is four spaces for each level of indentation.\n",
    "\n",
    "No spaces or tab characters allowed at the start of a statement: Indentation plays a special role in Python (see the section on control statements). For now simply ensure that all statements start at the beginning of the line.\n",
    "\n",
    "<div>\n",
    "<img src=\"img/ind1.png\" width=\"700\"/>\n",
    "</div>\n",
    "\n",
    "Most of the programming languages like C, C++, and Java use braces **`{ }`** to define a block of code. Python, however, uses indentation.\n",
    "\n",
    "A comparison of C & Python will help you understand it better.\n",
    "\n",
    "<div>\n",
    "<img src=\"img/ind2.png\" width=\"700\"/>\n",
    "</div>\n",
    "\n",
    "A code block (body of a **[function](https://github.com/milaan9/04_Python_Functions/blob/main/001_Python_Functions.ipynb)**, **[loop](https://github.com/milaan9/03_Python_Flow_Control/blob/main/005_Python_for_Loop.ipynb)**, etc.) starts with indentation and ends with the first unindented line. The amount of indentation is up to you, but it must be consistent throughout that block.\n",
    "\n",
    "Generally, four whitespaces are used for indentation and are preferred over tabs. Here is an example.\n",
    "\n",
    "> **In the case of Python, indentation is not for styling purpose. It is rather a requirement for your code to get compiled and executed. Thus it is mandatory!!!**"
   ]
  },
  {
   "cell_type": "code",
   "execution_count": 5,
   "metadata": {
    "ExecuteTime": {
     "end_time": "2021-10-02T06:13:40.314708Z",
     "start_time": "2021-10-02T06:13:40.167249Z"
    },
    "scrolled": true
   },
   "outputs": [
    {
     "name": "stdout",
     "output_type": "stream",
     "text": [
      "1\n",
      "2\n",
      "3\n",
      "4\n",
      "5\n",
      "6\n"
     ]
    }
   ],
   "source": [
    "for i in range(1,11):\n",
    "    print(i)   #press \"Tab\" one time for 1 indentation\n",
    "    if i == 6:\n",
    "        break "
   ]
  },
  {
   "cell_type": "markdown",
   "metadata": {},
   "source": [
    "The enforcement of indentation in Python makes the code look neat and clean. This results in Python programs that look similar and consistent.\n",
    "\n",
    "Indentation can be ignored in line continuation, but it's always a good idea to indent. It makes the code more readable. For example:"
   ]
  },
  {
   "cell_type": "code",
   "execution_count": 7,
   "metadata": {
    "ExecuteTime": {
     "end_time": "2021-10-02T06:13:40.437265Z",
     "start_time": "2021-10-02T06:13:40.325457Z"
    }
   },
   "outputs": [
    {
     "name": "stdout",
     "output_type": "stream",
     "text": [
      "Hello\n"
     ]
    }
   ],
   "source": [
    "if True:\n",
    "    print('Hello')\n",
    "    "
   ]
  },
  {
   "cell_type": "markdown",
   "metadata": {},
   "source": [
    "or"
   ]
  },
  {
   "cell_type": "code",
   "execution_count": 8,
   "metadata": {
    "ExecuteTime": {
     "end_time": "2021-10-02T06:13:40.559823Z",
     "start_time": "2021-10-02T06:13:40.447031Z"
    }
   },
   "outputs": [
    {
     "name": "stdout",
     "output_type": "stream",
     "text": [
      "Hello\n"
     ]
    }
   ],
   "source": [
    "if True: print('Hello')"
   ]
  },
  {
   "cell_type": "markdown",
   "metadata": {},
   "source": [
    "both are valid and do the same thing, but the former style is clearer.\n",
    "\n",
    "Incorrect indentation will result in **`IndentationError`**\n",
    "."
   ]
  },
  {
   "cell_type": "markdown",
   "metadata": {},
   "source": [
    "## 3. Python Comments\n",
    "\n",
    "Comments are very important while writing a program. They describe what is going on inside a program, so that a person looking at the source code does not have a hard time figuring it out.\n",
    "\n",
    "You might forget the key details of the program you just wrote in a month's time. So taking the time to explain these concepts in the form of comments is always fruitful.\n",
    "\n",
    "In Python, we use the hash **`#`** symbol to start writing a comment.\n",
    "\n",
    "It extends up to the newline character. Comments are for programmers to better understand a program. Python Interpreter ignores comments.\n",
    "\n",
    "Generally, comments will look something like this:\n",
    "\n",
    "```python\n",
    "#This is a Comment\n",
    "```\n",
    "\n",
    "Because comments do not **execute**, when you run a program you will not see any indication of the comment there. Comments are in the source code for **humans** to **read**, not for **computers to execute**."
   ]
  },
  {
   "cell_type": "code",
   "execution_count": 9,
   "metadata": {
    "ExecuteTime": {
     "end_time": "2021-10-02T06:13:40.682382Z",
     "start_time": "2021-10-02T06:13:40.563733Z"
    }
   },
   "outputs": [],
   "source": [
    "#This is a Comment"
   ]
  },
  {
   "cell_type": "markdown",
   "metadata": {},
   "source": [
    "### 1. Single lined comment:\n",
    "In case user wants to specify a single line comment, then comment must start with **`#`**.\n",
    "\n",
    "```python\n",
    "#This is single line comment.\n",
    "```"
   ]
  },
  {
   "cell_type": "code",
   "execution_count": 10,
   "metadata": {
    "ExecuteTime": {
     "end_time": "2021-10-02T06:13:40.804942Z",
     "start_time": "2021-10-02T06:13:40.685314Z"
    }
   },
   "outputs": [
    {
     "data": {
      "text/plain": [
       "9"
      ]
     },
     "execution_count": 10,
     "metadata": {},
     "output_type": "execute_result"
    }
   ],
   "source": [
    "#This is single line comment.\n",
    "n=9\n",
    "n"
   ]
  },
  {
   "cell_type": "markdown",
   "metadata": {},
   "source": [
    "### 2. Inline comments\n",
    "If a comment is placed on the same line as a statement, it is called an inline comment. Similar to the block comment, an inline comment begins with a single hash (#) sign and followed by a space and comment.\n",
    "\n",
    "It is recommended that an inline comment should separate from the statement at least **two spaces**. The following example demonstrates an inline comment\n",
    "\n",
    "```python\n",
    ">>>n+=1  # increase/add n by 1\n",
    "```"
   ]
  },
  {
   "cell_type": "code",
   "execution_count": 6,
   "metadata": {
    "ExecuteTime": {
     "end_time": "2021-10-02T06:13:40.929942Z",
     "start_time": "2021-10-02T06:13:40.809827Z"
    }
   },
   "outputs": [
    {
     "data": {
      "text/plain": [
       "10"
      ]
     },
     "execution_count": 6,
     "metadata": {},
     "output_type": "execute_result"
    }
   ],
   "source": [
    "n=9\n",
    "n+=1  # increase/add n by 1\n",
    "n"
   ]
  },
  {
   "cell_type": "markdown",
   "metadata": {},
   "source": [
    "### 3. Multi lined comment:\n",
    "\n",
    "We can have comments that extend up to multiple lines. One way is to use the hash **`#`** symbol at the beginning of each line. For example:"
   ]
  },
  {
   "cell_type": "code",
   "execution_count": 10,
   "metadata": {
    "ExecuteTime": {
     "end_time": "2021-10-02T06:13:41.082284Z",
     "start_time": "2021-10-02T06:13:40.933849Z"
    }
   },
   "outputs": [],
   "source": [
    "#This is a long comment\n",
    "#and it extends\n",
    "#to multiple lines"
   ]
  },
  {
   "cell_type": "code",
   "execution_count": 11,
   "metadata": {
    "ExecuteTime": {
     "end_time": "2021-10-02T06:13:41.236581Z",
     "start_time": "2021-10-02T06:13:41.086192Z"
    }
   },
   "outputs": [
    {
     "name": "stdout",
     "output_type": "stream",
     "text": [
      "Hello\n"
     ]
    }
   ],
   "source": [
    "#This is a comment\n",
    "#print out Hello\n",
    "print('Hello')"
   ]
  },
  {
   "cell_type": "markdown",
   "metadata": {},
   "source": [
    "Another way of doing this is to use triple quotes, either `'''` or `\"\"\"`.\n",
    "\n",
    "These triple quotes are generally used for multi-line strings. But they can be used as a multi-line comment as well. Unless they are not docstrings, they do not generate any extra code.\n",
    "\n",
    "```python\n",
    "#single line comment\n",
    ">>>print (\"Hello Python\"\n",
    "   '''This is\n",
    "   multiline comment''')\n",
    "```"
   ]
  },
  {
   "cell_type": "code",
   "execution_count": 12,
   "metadata": {
    "ExecuteTime": {
     "end_time": "2021-10-02T06:13:41.375251Z",
     "start_time": "2021-10-02T06:13:41.247325Z"
    }
   },
   "outputs": [
    {
     "data": {
      "text/plain": [
       "'This is also a\\nperfect example of\\nmulti-line comments'"
      ]
     },
     "execution_count": 12,
     "metadata": {},
     "output_type": "execute_result"
    }
   ],
   "source": [
    "\"\"\"This is also a\n",
    "perfect example of\n",
    "multi-line comments\"\"\""
   ]
  },
  {
   "cell_type": "code",
   "execution_count": 8,
   "metadata": {
    "ExecuteTime": {
     "end_time": "2021-10-02T06:13:41.482679Z",
     "start_time": "2021-10-02T06:13:41.379163Z"
    }
   },
   "outputs": [
    {
     "data": {
      "text/plain": [
       "'This is also a\\nperfect example of\\nmulti-line comments'"
      ]
     },
     "execution_count": 8,
     "metadata": {},
     "output_type": "execute_result"
    }
   ],
   "source": [
    "'''This is also a\n",
    "perfect example of\n",
    "multi-line comments'''"
   ]
  },
  {
   "cell_type": "code",
   "execution_count": 9,
   "metadata": {
    "ExecuteTime": {
     "end_time": "2021-10-02T06:13:41.620369Z",
     "start_time": "2021-10-02T06:13:41.488536Z"
    },
    "scrolled": true
   },
   "outputs": [
    {
     "name": "stdout",
     "output_type": "stream",
     "text": [
      "Hello PythonThis is\n",
      "multiline comment\n"
     ]
    }
   ],
   "source": [
    "#single line comment\n",
    "print (\"Hello Python\"\n",
    "'''This is\n",
    "multiline comment''')"
   ]
  },
  {
   "cell_type": "markdown",
   "metadata": {},
   "source": [
    "### 4. Docstrings in Python\n",
    "\n",
    "A docstring is short for documentation string.\n",
    "\n",
    "**[Python Docstrings](https://github.com/milaan9/04_Python_Functions/blob/main/Python_Docstrings.ipynb)** (documentation strings) are the **[string](https://github.com/milaan9/02_Python_Datatypes/blob/main/002_Python_String.ipynb)** literals that appear right after the definition of a function, method, class, or module.\n",
    "\n",
    "Triple quotes are used while writing docstrings. For example:\n",
    "\n",
    "```python\n",
    ">>>def double(num):\n",
    ">>>    \"\"\"Function to double the value\"\"\"\n",
    ">>>    return 3*num\n",
    "```\n",
    "\n",
    "Docstrings appear right after the definition of a function, class, or a module. This separates docstrings from multiline comments using triple quotes.\n",
    "\n",
    "The docstrings are associated with the object as their **`__doc__`** attribute.\n",
    "\n",
    "So, we can access the docstrings of the above function with the following lines of code:"
   ]
  },
  {
   "cell_type": "code",
   "execution_count": 12,
   "metadata": {
    "ExecuteTime": {
     "end_time": "2021-10-02T06:13:41.729260Z",
     "start_time": "2021-10-02T06:13:41.626231Z"
    }
   },
   "outputs": [
    {
     "name": "stdout",
     "output_type": "stream",
     "text": [
      "Function to double the value\n"
     ]
    }
   ],
   "source": [
    "def double(num):\n",
    "    \"\"\"Function to double the value\"\"\"\n",
    "    return 3*num\n",
    "print(double.__doc__)"
   ]
  },
  {
   "cell_type": "markdown",
   "metadata": {},
   "source": [
    "## Help topics\n",
    "\n",
    "Python has extensive help built in. You can execute **`help()`** for an overview or **`help(x)`** for any library, object or type **`x`**. Try using **`help(\"topics\")`** to get a list of help pages built into the help system.\n",
    "\n",
    "`help(\"topics\")`"
   ]
  },
  {
   "cell_type": "code",
   "execution_count": 13,
   "metadata": {
    "ExecuteTime": {
     "end_time": "2021-10-02T06:13:41.882578Z",
     "start_time": "2021-10-02T06:13:41.733166Z"
    },
    "scrolled": true
   },
   "outputs": [
    {
     "name": "stdout",
     "output_type": "stream",
     "text": [
      "\n",
      "Here is a list of available topics.  Enter any topic name to get more help.\n",
      "\n",
      "ASSERTION           DELETION            LOOPING             SHIFTING\n",
      "ASSIGNMENT          DICTIONARIES        MAPPINGMETHODS      SLICINGS\n",
      "ATTRIBUTEMETHODS    DICTIONARYLITERALS  MAPPINGS            SPECIALATTRIBUTES\n",
      "ATTRIBUTES          DYNAMICFEATURES     METHODS             SPECIALIDENTIFIERS\n",
      "AUGMENTEDASSIGNMENT ELLIPSIS            MODULES             SPECIALMETHODS\n",
      "BASICMETHODS        EXCEPTIONS          NAMESPACES          STRINGMETHODS\n",
      "BINARY              EXECUTION           NONE                STRINGS\n",
      "BITWISE             EXPRESSIONS         NUMBERMETHODS       SUBSCRIPTS\n",
      "BOOLEAN             FLOAT               NUMBERS             TRACEBACKS\n",
      "CALLABLEMETHODS     FORMATTING          OBJECTS             TRUTHVALUE\n",
      "CALLS               FRAMEOBJECTS        OPERATORS           TUPLELITERALS\n",
      "CLASSES             FRAMES              PACKAGES            TUPLES\n",
      "CODEOBJECTS         FUNCTIONS           POWER               TYPEOBJECTS\n",
      "COMPARISON          IDENTIFIERS         PRECEDENCE          TYPES\n",
      "COMPLEX             IMPORTING           PRIVATENAMES        UNARY\n",
      "CONDITIONAL         INTEGER             RETURNING           UNICODE\n",
      "CONTEXTMANAGERS     LISTLITERALS        SCOPING             \n",
      "CONVERSIONS         LISTS               SEQUENCEMETHODS     \n",
      "DEBUGGING           LITERALS            SEQUENCES           \n",
      "\n"
     ]
    }
   ],
   "source": [
    "help(\"topics\")"
   ]
  },
  {
   "cell_type": "code",
   "execution_count": 14,
   "metadata": {},
   "outputs": [
    {
     "name": "stdout",
     "output_type": "stream",
     "text": [
      "Sequence Types — \"list\", \"tuple\", \"range\"\n",
      "*****************************************\n",
      "\n",
      "There are three basic sequence types: lists, tuples, and range\n",
      "objects. Additional sequence types tailored for processing of binary\n",
      "data and text strings are described in dedicated sections.\n",
      "\n",
      "\n",
      "Common Sequence Operations\n",
      "==========================\n",
      "\n",
      "The operations in the following table are supported by most sequence\n",
      "types, both mutable and immutable. The \"collections.abc.Sequence\" ABC\n",
      "is provided to make it easier to correctly implement these operations\n",
      "on custom sequence types.\n",
      "\n",
      "This table lists the sequence operations sorted in ascending priority.\n",
      "In the table, *s* and *t* are sequences of the same type, *n*, *i*,\n",
      "*j* and *k* are integers and *x* is an arbitrary object that meets any\n",
      "type and value restrictions imposed by *s*.\n",
      "\n",
      "The \"in\" and \"not in\" operations have the same priorities as the\n",
      "comparison operations. The \"+\" (concatenation) and \"*\" (repetition)\n",
      "operations have the same priority as the corresponding numeric\n",
      "operations. [3]\n",
      "\n",
      "+----------------------------+----------------------------------+------------+\n",
      "| Operation                  | Result                           | Notes      |\n",
      "|============================|==================================|============|\n",
      "| \"x in s\"                   | \"True\" if an item of *s* is      | (1)        |\n",
      "|                            | equal to *x*, else \"False\"       |            |\n",
      "+----------------------------+----------------------------------+------------+\n",
      "| \"x not in s\"               | \"False\" if an item of *s* is     | (1)        |\n",
      "|                            | equal to *x*, else \"True\"        |            |\n",
      "+----------------------------+----------------------------------+------------+\n",
      "| \"s + t\"                    | the concatenation of *s* and *t* | (6)(7)     |\n",
      "+----------------------------+----------------------------------+------------+\n",
      "| \"s * n\" or \"n * s\"         | equivalent to adding *s* to      | (2)(7)     |\n",
      "|                            | itself *n* times                 |            |\n",
      "+----------------------------+----------------------------------+------------+\n",
      "| \"s[i]\"                     | *i*th item of *s*, origin 0      | (3)        |\n",
      "+----------------------------+----------------------------------+------------+\n",
      "| \"s[i:j]\"                   | slice of *s* from *i* to *j*     | (3)(4)     |\n",
      "+----------------------------+----------------------------------+------------+\n",
      "| \"s[i:j:k]\"                 | slice of *s* from *i* to *j*     | (3)(5)     |\n",
      "|                            | with step *k*                    |            |\n",
      "+----------------------------+----------------------------------+------------+\n",
      "| \"len(s)\"                   | length of *s*                    |            |\n",
      "+----------------------------+----------------------------------+------------+\n",
      "| \"min(s)\"                   | smallest item of *s*             |            |\n",
      "+----------------------------+----------------------------------+------------+\n",
      "| \"max(s)\"                   | largest item of *s*              |            |\n",
      "+----------------------------+----------------------------------+------------+\n",
      "| \"s.index(x[, i[, j]])\"     | index of the first occurrence of | (8)        |\n",
      "|                            | *x* in *s* (at or after index    |            |\n",
      "|                            | *i* and before index *j*)        |            |\n",
      "+----------------------------+----------------------------------+------------+\n",
      "| \"s.count(x)\"               | total number of occurrences of   |            |\n",
      "|                            | *x* in *s*                       |            |\n",
      "+----------------------------+----------------------------------+------------+\n",
      "\n",
      "Sequences of the same type also support comparisons.  In particular,\n",
      "tuples and lists are compared lexicographically by comparing\n",
      "corresponding elements. This means that to compare equal, every\n",
      "element must compare equal and the two sequences must be of the same\n",
      "type and have the same length.  (For full details see Comparisons in\n",
      "the language reference.)\n",
      "\n",
      "Notes:\n",
      "\n",
      "1. While the \"in\" and \"not in\" operations are used only for simple\n",
      "   containment testing in the general case, some specialised sequences\n",
      "   (such as \"str\", \"bytes\" and \"bytearray\") also use them for\n",
      "   subsequence testing:\n",
      "\n",
      "      >>> \"gg\" in \"eggs\"\n",
      "      True\n",
      "\n",
      "2. Values of *n* less than \"0\" are treated as \"0\" (which yields an\n",
      "   empty sequence of the same type as *s*).  Note that items in the\n",
      "   sequence *s* are not copied; they are referenced multiple times.\n",
      "   This often haunts new Python programmers; consider:\n",
      "\n",
      "      >>> lists = [[]] * 3\n",
      "      >>> lists\n",
      "      [[], [], []]\n",
      "      >>> lists[0].append(3)\n",
      "      >>> lists\n",
      "      [[3], [3], [3]]\n",
      "\n",
      "   What has happened is that \"[[]]\" is a one-element list containing\n",
      "   an empty list, so all three elements of \"[[]] * 3\" are references\n",
      "   to this single empty list.  Modifying any of the elements of\n",
      "   \"lists\" modifies this single list. You can create a list of\n",
      "   different lists this way:\n",
      "\n",
      "      >>> lists = [[] for i in range(3)]\n",
      "      >>> lists[0].append(3)\n",
      "      >>> lists[1].append(5)\n",
      "      >>> lists[2].append(7)\n",
      "      >>> lists\n",
      "      [[3], [5], [7]]\n",
      "\n",
      "   Further explanation is available in the FAQ entry How do I create a\n",
      "   multidimensional list?.\n",
      "\n",
      "3. If *i* or *j* is negative, the index is relative to the end of\n",
      "   sequence *s*: \"len(s) + i\" or \"len(s) + j\" is substituted.  But\n",
      "   note that \"-0\" is still \"0\".\n",
      "\n",
      "4. The slice of *s* from *i* to *j* is defined as the sequence of\n",
      "   items with index *k* such that \"i <= k < j\".  If *i* or *j* is\n",
      "   greater than \"len(s)\", use \"len(s)\".  If *i* is omitted or \"None\",\n",
      "   use \"0\".  If *j* is omitted or \"None\", use \"len(s)\".  If *i* is\n",
      "   greater than or equal to *j*, the slice is empty.\n",
      "\n",
      "5. The slice of *s* from *i* to *j* with step *k* is defined as the\n",
      "   sequence of items with index  \"x = i + n*k\" such that \"0 <= n <\n",
      "   (j-i)/k\".  In other words, the indices are \"i\", \"i+k\", \"i+2*k\",\n",
      "   \"i+3*k\" and so on, stopping when *j* is reached (but never\n",
      "   including *j*).  When *k* is positive, *i* and *j* are reduced to\n",
      "   \"len(s)\" if they are greater. When *k* is negative, *i* and *j* are\n",
      "   reduced to \"len(s) - 1\" if they are greater.  If *i* or *j* are\n",
      "   omitted or \"None\", they become “end” values (which end depends on\n",
      "   the sign of *k*).  Note, *k* cannot be zero. If *k* is \"None\", it\n",
      "   is treated like \"1\".\n",
      "\n",
      "6. Concatenating immutable sequences always results in a new object.\n",
      "   This means that building up a sequence by repeated concatenation\n",
      "   will have a quadratic runtime cost in the total sequence length.\n",
      "   To get a linear runtime cost, you must switch to one of the\n",
      "   alternatives below:\n",
      "\n",
      "   * if concatenating \"str\" objects, you can build a list and use\n",
      "     \"str.join()\" at the end or else write to an \"io.StringIO\"\n",
      "     instance and retrieve its value when complete\n",
      "\n",
      "   * if concatenating \"bytes\" objects, you can similarly use\n",
      "     \"bytes.join()\" or \"io.BytesIO\", or you can do in-place\n",
      "     concatenation with a \"bytearray\" object.  \"bytearray\" objects are\n",
      "     mutable and have an efficient overallocation mechanism\n",
      "\n",
      "   * if concatenating \"tuple\" objects, extend a \"list\" instead\n",
      "\n",
      "   * for other types, investigate the relevant class documentation\n",
      "\n",
      "7. Some sequence types (such as \"range\") only support item sequences\n",
      "   that follow specific patterns, and hence don’t support sequence\n",
      "   concatenation or repetition.\n",
      "\n",
      "8. \"index\" raises \"ValueError\" when *x* is not found in *s*. Not all\n",
      "   implementations support passing the additional arguments *i* and\n",
      "   *j*. These arguments allow efficient searching of subsections of\n",
      "   the sequence. Passing the extra arguments is roughly equivalent to\n",
      "   using \"s[i:j].index(x)\", only without copying any data and with the\n",
      "   returned index being relative to the start of the sequence rather\n",
      "   than the start of the slice.\n",
      "\n",
      "\n",
      "Immutable Sequence Types\n",
      "========================\n",
      "\n",
      "The only operation that immutable sequence types generally implement\n",
      "that is not also implemented by mutable sequence types is support for\n",
      "the \"hash()\" built-in.\n",
      "\n",
      "This support allows immutable sequences, such as \"tuple\" instances, to\n",
      "be used as \"dict\" keys and stored in \"set\" and \"frozenset\" instances.\n",
      "\n",
      "Attempting to hash an immutable sequence that contains unhashable\n",
      "values will result in \"TypeError\".\n",
      "\n",
      "\n",
      "Mutable Sequence Types\n",
      "======================\n",
      "\n",
      "The operations in the following table are defined on mutable sequence\n",
      "types. The \"collections.abc.MutableSequence\" ABC is provided to make\n",
      "it easier to correctly implement these operations on custom sequence\n",
      "types.\n",
      "\n",
      "In the table *s* is an instance of a mutable sequence type, *t* is any\n",
      "iterable object and *x* is an arbitrary object that meets any type and\n",
      "value restrictions imposed by *s* (for example, \"bytearray\" only\n",
      "accepts integers that meet the value restriction \"0 <= x <= 255\").\n",
      "\n",
      "+--------------------------------+----------------------------------+-----------------------+\n",
      "| Operation                      | Result                           | Notes                 |\n",
      "|================================|==================================|=======================|\n",
      "| \"s[i] = x\"                     | item *i* of *s* is replaced by   |                       |\n",
      "|                                | *x*                              |                       |\n",
      "+--------------------------------+----------------------------------+-----------------------+\n",
      "| \"s[i:j] = t\"                   | slice of *s* from *i* to *j* is  |                       |\n",
      "|                                | replaced by the contents of the  |                       |\n",
      "|                                | iterable *t*                     |                       |\n",
      "+--------------------------------+----------------------------------+-----------------------+\n",
      "| \"del s[i:j]\"                   | same as \"s[i:j] = []\"            |                       |\n",
      "+--------------------------------+----------------------------------+-----------------------+\n",
      "| \"s[i:j:k] = t\"                 | the elements of \"s[i:j:k]\" are   | (1)                   |\n",
      "|                                | replaced by those of *t*         |                       |\n",
      "+--------------------------------+----------------------------------+-----------------------+\n",
      "| \"del s[i:j:k]\"                 | removes the elements of          |                       |\n",
      "|                                | \"s[i:j:k]\" from the list         |                       |\n",
      "+--------------------------------+----------------------------------+-----------------------+\n",
      "| \"s.append(x)\"                  | appends *x* to the end of the    |                       |\n",
      "|                                | sequence (same as                |                       |\n",
      "|                                | \"s[len(s):len(s)] = [x]\")        |                       |\n",
      "+--------------------------------+----------------------------------+-----------------------+\n",
      "| \"s.clear()\"                    | removes all items from *s* (same | (5)                   |\n",
      "|                                | as \"del s[:]\")                   |                       |\n",
      "+--------------------------------+----------------------------------+-----------------------+\n",
      "| \"s.copy()\"                     | creates a shallow copy of *s*    | (5)                   |\n",
      "|                                | (same as \"s[:]\")                 |                       |\n",
      "+--------------------------------+----------------------------------+-----------------------+\n",
      "| \"s.extend(t)\" or \"s += t\"      | extends *s* with the contents of |                       |\n",
      "|                                | *t* (for the most part the same  |                       |\n",
      "|                                | as \"s[len(s):len(s)] = t\")       |                       |\n",
      "+--------------------------------+----------------------------------+-----------------------+\n",
      "| \"s *= n\"                       | updates *s* with its contents    | (6)                   |\n",
      "|                                | repeated *n* times               |                       |\n",
      "+--------------------------------+----------------------------------+-----------------------+\n",
      "| \"s.insert(i, x)\"               | inserts *x* into *s* at the      |                       |\n",
      "|                                | index given by *i* (same as      |                       |\n",
      "|                                | \"s[i:i] = [x]\")                  |                       |\n",
      "+--------------------------------+----------------------------------+-----------------------+\n",
      "| \"s.pop()\" or \"s.pop(i)\"        | retrieves the item at *i* and    | (2)                   |\n",
      "|                                | also removes it from *s*         |                       |\n",
      "+--------------------------------+----------------------------------+-----------------------+\n",
      "| \"s.remove(x)\"                  | remove the first item from *s*   | (3)                   |\n",
      "|                                | where \"s[i]\" is equal to *x*     |                       |\n",
      "+--------------------------------+----------------------------------+-----------------------+\n",
      "| \"s.reverse()\"                  | reverses the items of *s* in     | (4)                   |\n",
      "|                                | place                            |                       |\n",
      "+--------------------------------+----------------------------------+-----------------------+\n",
      "\n",
      "Notes:\n",
      "\n",
      "1. *t* must have the same length as the slice it is replacing.\n",
      "\n",
      "2. The optional argument *i* defaults to \"-1\", so that by default the\n",
      "   last item is removed and returned.\n",
      "\n",
      "3. \"remove()\" raises \"ValueError\" when *x* is not found in *s*.\n",
      "\n",
      "4. The \"reverse()\" method modifies the sequence in place for economy\n",
      "   of space when reversing a large sequence.  To remind users that it\n",
      "   operates by side effect, it does not return the reversed sequence.\n",
      "\n",
      "5. \"clear()\" and \"copy()\" are included for consistency with the\n",
      "   interfaces of mutable containers that don’t support slicing\n",
      "   operations (such as \"dict\" and \"set\"). \"copy()\" is not part of the\n",
      "   \"collections.abc.MutableSequence\" ABC, but most concrete mutable\n",
      "   sequence classes provide it.\n",
      "\n",
      "   New in version 3.3: \"clear()\" and \"copy()\" methods.\n",
      "\n",
      "6. The value *n* is an integer, or an object implementing\n",
      "   \"__index__()\".  Zero and negative values of *n* clear the sequence.\n",
      "   Items in the sequence are not copied; they are referenced multiple\n",
      "   times, as explained for \"s * n\" under Common Sequence Operations.\n",
      "\n",
      "\n",
      "Lists\n",
      "=====\n",
      "\n",
      "Lists are mutable sequences, typically used to store collections of\n",
      "homogeneous items (where the precise degree of similarity will vary by\n",
      "application).\n",
      "\n",
      "class list([iterable])\n",
      "\n",
      "   Lists may be constructed in several ways:\n",
      "\n",
      "   * Using a pair of square brackets to denote the empty list: \"[]\"\n",
      "\n",
      "   * Using square brackets, separating items with commas: \"[a]\", \"[a,\n",
      "     b, c]\"\n",
      "\n",
      "   * Using a list comprehension: \"[x for x in iterable]\"\n",
      "\n",
      "   * Using the type constructor: \"list()\" or \"list(iterable)\"\n",
      "\n",
      "   The constructor builds a list whose items are the same and in the\n",
      "   same order as *iterable*’s items.  *iterable* may be either a\n",
      "   sequence, a container that supports iteration, or an iterator\n",
      "   object.  If *iterable* is already a list, a copy is made and\n",
      "   returned, similar to \"iterable[:]\". For example, \"list('abc')\"\n",
      "   returns \"['a', 'b', 'c']\" and \"list( (1, 2, 3) )\" returns \"[1, 2,\n",
      "   3]\". If no argument is given, the constructor creates a new empty\n",
      "   list, \"[]\".\n",
      "\n",
      "   Many other operations also produce lists, including the \"sorted()\"\n",
      "   built-in.\n",
      "\n",
      "   Lists implement all of the common and mutable sequence operations.\n",
      "   Lists also provide the following additional method:\n",
      "\n",
      "   sort(*, key=None, reverse=False)\n",
      "\n",
      "      This method sorts the list in place, using only \"<\" comparisons\n",
      "      between items. Exceptions are not suppressed - if any comparison\n",
      "      operations fail, the entire sort operation will fail (and the\n",
      "      list will likely be left in a partially modified state).\n",
      "\n",
      "      \"sort()\" accepts two arguments that can only be passed by\n",
      "      keyword (keyword-only arguments):\n",
      "\n",
      "      *key* specifies a function of one argument that is used to\n",
      "      extract a comparison key from each list element (for example,\n",
      "      \"key=str.lower\"). The key corresponding to each item in the list\n",
      "      is calculated once and then used for the entire sorting process.\n",
      "      The default value of \"None\" means that list items are sorted\n",
      "      directly without calculating a separate key value.\n",
      "\n",
      "      The \"functools.cmp_to_key()\" utility is available to convert a\n",
      "      2.x style *cmp* function to a *key* function.\n",
      "\n",
      "      *reverse* is a boolean value.  If set to \"True\", then the list\n",
      "      elements are sorted as if each comparison were reversed.\n",
      "\n",
      "      This method modifies the sequence in place for economy of space\n",
      "      when sorting a large sequence.  To remind users that it operates\n",
      "      by side effect, it does not return the sorted sequence (use\n",
      "      \"sorted()\" to explicitly request a new sorted list instance).\n",
      "\n",
      "      The \"sort()\" method is guaranteed to be stable.  A sort is\n",
      "      stable if it guarantees not to change the relative order of\n",
      "      elements that compare equal — this is helpful for sorting in\n",
      "      multiple passes (for example, sort by department, then by salary\n",
      "      grade).\n",
      "\n",
      "      For sorting examples and a brief sorting tutorial, see Sorting\n",
      "      HOW TO.\n",
      "\n",
      "      **CPython implementation detail:** While a list is being sorted,\n",
      "      the effect of attempting to mutate, or even inspect, the list is\n",
      "      undefined.  The C implementation of Python makes the list appear\n",
      "      empty for the duration, and raises \"ValueError\" if it can detect\n",
      "      that the list has been mutated during a sort.\n",
      "\n",
      "\n",
      "Tuples\n",
      "======\n",
      "\n",
      "Tuples are immutable sequences, typically used to store collections of\n",
      "heterogeneous data (such as the 2-tuples produced by the \"enumerate()\"\n",
      "built-in). Tuples are also used for cases where an immutable sequence\n",
      "of homogeneous data is needed (such as allowing storage in a \"set\" or\n",
      "\"dict\" instance).\n",
      "\n",
      "class tuple([iterable])\n",
      "\n",
      "   Tuples may be constructed in a number of ways:\n",
      "\n",
      "   * Using a pair of parentheses to denote the empty tuple: \"()\"\n",
      "\n",
      "   * Using a trailing comma for a singleton tuple: \"a,\" or \"(a,)\"\n",
      "\n",
      "   * Separating items with commas: \"a, b, c\" or \"(a, b, c)\"\n",
      "\n",
      "   * Using the \"tuple()\" built-in: \"tuple()\" or \"tuple(iterable)\"\n",
      "\n",
      "   The constructor builds a tuple whose items are the same and in the\n",
      "   same order as *iterable*’s items.  *iterable* may be either a\n",
      "   sequence, a container that supports iteration, or an iterator\n",
      "   object.  If *iterable* is already a tuple, it is returned\n",
      "   unchanged. For example, \"tuple('abc')\" returns \"('a', 'b', 'c')\"\n",
      "   and \"tuple( [1, 2, 3] )\" returns \"(1, 2, 3)\". If no argument is\n",
      "   given, the constructor creates a new empty tuple, \"()\".\n",
      "\n",
      "   Note that it is actually the comma which makes a tuple, not the\n",
      "   parentheses. The parentheses are optional, except in the empty\n",
      "   tuple case, or when they are needed to avoid syntactic ambiguity.\n",
      "   For example, \"f(a, b, c)\" is a function call with three arguments,\n",
      "   while \"f((a, b, c))\" is a function call with a 3-tuple as the sole\n",
      "   argument.\n",
      "\n",
      "   Tuples implement all of the common sequence operations.\n",
      "\n",
      "For heterogeneous collections of data where access by name is clearer\n",
      "than access by index, \"collections.namedtuple()\" may be a more\n",
      "appropriate choice than a simple tuple object.\n",
      "\n",
      "\n",
      "Ranges\n",
      "======\n",
      "\n",
      "The \"range\" type represents an immutable sequence of numbers and is\n",
      "commonly used for looping a specific number of times in \"for\" loops.\n",
      "\n",
      "class range(stop)\n",
      "class range(start, stop[, step])\n",
      "\n",
      "   The arguments to the range constructor must be integers (either\n",
      "   built-in \"int\" or any object that implements the \"__index__()\"\n",
      "   special method).  If the *step* argument is omitted, it defaults to\n",
      "   \"1\". If the *start* argument is omitted, it defaults to \"0\". If\n",
      "   *step* is zero, \"ValueError\" is raised.\n",
      "\n",
      "   For a positive *step*, the contents of a range \"r\" are determined\n",
      "   by the formula \"r[i] = start + step*i\" where \"i >= 0\" and \"r[i] <\n",
      "   stop\".\n",
      "\n",
      "   For a negative *step*, the contents of the range are still\n",
      "   determined by the formula \"r[i] = start + step*i\", but the\n",
      "   constraints are \"i >= 0\" and \"r[i] > stop\".\n",
      "\n",
      "   A range object will be empty if \"r[0]\" does not meet the value\n",
      "   constraint. Ranges do support negative indices, but these are\n",
      "   interpreted as indexing from the end of the sequence determined by\n",
      "   the positive indices.\n",
      "\n",
      "   Ranges containing absolute values larger than \"sys.maxsize\" are\n",
      "   permitted but some features (such as \"len()\") may raise\n",
      "   \"OverflowError\".\n",
      "\n",
      "   Range examples:\n",
      "\n",
      "      >>> list(range(10))\n",
      "      [0, 1, 2, 3, 4, 5, 6, 7, 8, 9]\n",
      "      >>> list(range(1, 11))\n",
      "      [1, 2, 3, 4, 5, 6, 7, 8, 9, 10]\n",
      "      >>> list(range(0, 30, 5))\n",
      "      [0, 5, 10, 15, 20, 25]\n",
      "      >>> list(range(0, 10, 3))\n",
      "      [0, 3, 6, 9]\n",
      "      >>> list(range(0, -10, -1))\n",
      "      [0, -1, -2, -3, -4, -5, -6, -7, -8, -9]\n",
      "      >>> list(range(0))\n",
      "      []\n",
      "      >>> list(range(1, 0))\n",
      "      []\n",
      "\n",
      "   Ranges implement all of the common sequence operations except\n",
      "   concatenation and repetition (due to the fact that range objects\n",
      "   can only represent sequences that follow a strict pattern and\n",
      "   repetition and concatenation will usually violate that pattern).\n",
      "\n",
      "   start\n",
      "\n",
      "      The value of the *start* parameter (or \"0\" if the parameter was\n",
      "      not supplied)\n",
      "\n",
      "   stop\n",
      "\n",
      "      The value of the *stop* parameter\n",
      "\n",
      "   step\n",
      "\n",
      "      The value of the *step* parameter (or \"1\" if the parameter was\n",
      "      not supplied)\n",
      "\n",
      "The advantage of the \"range\" type over a regular \"list\" or \"tuple\" is\n",
      "that a \"range\" object will always take the same (small) amount of\n",
      "memory, no matter the size of the range it represents (as it only\n",
      "stores the \"start\", \"stop\" and \"step\" values, calculating individual\n",
      "items and subranges as needed).\n",
      "\n",
      "Range objects implement the \"collections.abc.Sequence\" ABC, and\n",
      "provide features such as containment tests, element index lookup,\n",
      "slicing and support for negative indices (see Sequence Types — list,\n",
      "tuple, range):\n",
      "\n",
      ">>> r = range(0, 20, 2)\n",
      ">>> r\n",
      "range(0, 20, 2)\n",
      ">>> 11 in r\n",
      "False\n",
      ">>> 10 in r\n",
      "True\n",
      ">>> r.index(10)\n",
      "5\n",
      ">>> r[5]\n",
      "10\n",
      ">>> r[:5]\n",
      "range(0, 10, 2)\n",
      ">>> r[-1]\n",
      "18\n",
      "\n",
      "Testing range objects for equality with \"==\" and \"!=\" compares them as\n",
      "sequences.  That is, two range objects are considered equal if they\n",
      "represent the same sequence of values.  (Note that two range objects\n",
      "that compare equal might have different \"start\", \"stop\" and \"step\"\n",
      "attributes, for example \"range(0) == range(2, 1, 3)\" or \"range(0, 3,\n",
      "2) == range(0, 4, 2)\".)\n",
      "\n",
      "Changed in version 3.2: Implement the Sequence ABC. Support slicing\n",
      "and negative indices. Test \"int\" objects for membership in constant\n",
      "time instead of iterating through all items.\n",
      "\n",
      "Changed in version 3.3: Define ‘==’ and ‘!=’ to compare range objects\n",
      "based on the sequence of values they define (instead of comparing\n",
      "based on object identity).\n",
      "\n",
      "New in version 3.3: The \"start\", \"stop\" and \"step\" attributes.\n",
      "\n",
      "See also:\n",
      "\n",
      "  * The linspace recipe shows how to implement a lazy version of range\n",
      "    suitable for floating point applications.\n",
      "\n",
      "Related help topics: STRINGMETHODS, FORMATTING, range, LISTS\n",
      "\n"
     ]
    }
   ],
   "source": [
    "help('TUPLES')"
   ]
  },
  {
   "cell_type": "code",
   "execution_count": 6,
   "metadata": {},
   "outputs": [
    {
     "name": "stdout",
     "output_type": "stream",
     "text": [
      "Slicings\n",
      "********\n",
      "\n",
      "A slicing selects a range of items in a sequence object (e.g., a\n",
      "string, tuple or list).  Slicings may be used as expressions or as\n",
      "targets in assignment or \"del\" statements.  The syntax for a slicing:\n",
      "\n",
      "   slicing      ::= primary \"[\" slice_list \"]\"\n",
      "   slice_list   ::= slice_item (\",\" slice_item)* [\",\"]\n",
      "   slice_item   ::= expression | proper_slice\n",
      "   proper_slice ::= [lower_bound] \":\" [upper_bound] [ \":\" [stride] ]\n",
      "   lower_bound  ::= expression\n",
      "   upper_bound  ::= expression\n",
      "   stride       ::= expression\n",
      "\n",
      "There is ambiguity in the formal syntax here: anything that looks like\n",
      "an expression list also looks like a slice list, so any subscription\n",
      "can be interpreted as a slicing.  Rather than further complicating the\n",
      "syntax, this is disambiguated by defining that in this case the\n",
      "interpretation as a subscription takes priority over the\n",
      "interpretation as a slicing (this is the case if the slice list\n",
      "contains no proper slice).\n",
      "\n",
      "The semantics for a slicing are as follows.  The primary is indexed\n",
      "(using the same \"__getitem__()\" method as normal subscription) with a\n",
      "key that is constructed from the slice list, as follows.  If the slice\n",
      "list contains at least one comma, the key is a tuple containing the\n",
      "conversion of the slice items; otherwise, the conversion of the lone\n",
      "slice item is the key.  The conversion of a slice item that is an\n",
      "expression is that expression.  The conversion of a proper slice is a\n",
      "slice object (see section The standard type hierarchy) whose \"start\",\n",
      "\"stop\" and \"step\" attributes are the values of the expressions given\n",
      "as lower bound, upper bound and stride, respectively, substituting\n",
      "\"None\" for missing expressions.\n",
      "\n",
      "Related help topics: SEQUENCEMETHODS\n",
      "\n"
     ]
    }
   ],
   "source": [
    "help('SLICINGS')"
   ]
  },
  {
   "cell_type": "code",
   "execution_count": null,
   "metadata": {},
   "outputs": [],
   "source": []
  }
 ],
 "metadata": {
  "hide_input": false,
  "kernelspec": {
   "display_name": "Python 3 (ipykernel)",
   "language": "python",
   "name": "python3"
  },
  "language_info": {
   "codemirror_mode": {
    "name": "ipython",
    "version": 3
   },
   "file_extension": ".py",
   "mimetype": "text/x-python",
   "name": "python",
   "nbconvert_exporter": "python",
   "pygments_lexer": "ipython3",
   "version": "3.9.13"
  },
  "toc": {
   "base_numbering": 1,
   "nav_menu": {},
   "number_sections": true,
   "sideBar": true,
   "skip_h1_title": false,
   "title_cell": "Table of Contents",
   "title_sidebar": "Contents",
   "toc_cell": false,
   "toc_position": {},
   "toc_section_display": true,
   "toc_window_display": false
  },
  "varInspector": {
   "cols": {
    "lenName": 16,
    "lenType": 16,
    "lenVar": 40
   },
   "kernels_config": {
    "python": {
     "delete_cmd_postfix": "",
     "delete_cmd_prefix": "del ",
     "library": "var_list.py",
     "varRefreshCmd": "print(var_dic_list())"
    },
    "r": {
     "delete_cmd_postfix": ") ",
     "delete_cmd_prefix": "rm(",
     "library": "var_list.r",
     "varRefreshCmd": "cat(var_dic_list()) "
    }
   },
   "types_to_exclude": [
    "module",
    "function",
    "builtin_function_or_method",
    "instance",
    "_Feature"
   ],
   "window_display": false
  }
 },
 "nbformat": 4,
 "nbformat_minor": 2
}
